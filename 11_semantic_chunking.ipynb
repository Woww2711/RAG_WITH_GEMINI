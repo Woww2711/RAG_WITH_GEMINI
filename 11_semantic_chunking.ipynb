{
 "cells": [
  {
   "cell_type": "code",
   "execution_count": 3,
   "id": "9a0c623d",
   "metadata": {},
   "outputs": [],
   "source": [
    "import os\n",
    "import sys\n",
    "from dotenv import load_dotenv\n",
    "\n",
    "from langchain_experimental.text_splitter import SemanticChunker\n",
    "from langchain_google_genai import GoogleGenerativeAIEmbeddings\n",
    "from langchain_community.vectorstores import FAISS\n",
    "from langchain.document_loaders import PyPDFLoader\n",
    "from langchain_cohere import CohereEmbeddings\n",
    "\n",
    "load_dotenv()\n",
    "\n",
    "base_embeddings = CohereEmbeddings(\n",
    "    model=\"embed-english-light-v3.0\"\n",
    ")"
   ]
  },
  {
   "cell_type": "code",
   "execution_count": 4,
   "id": "bdf2ed16",
   "metadata": {},
   "outputs": [],
   "source": [
    "loader = PyPDFLoader(\"data/Understanding_Climate_Change.pdf\")\n",
    "docs = loader.load()"
   ]
  },
  {
   "cell_type": "code",
   "execution_count": 5,
   "id": "55c8f10e",
   "metadata": {},
   "outputs": [],
   "source": [
    "text_splitter = SemanticChunker(base_embeddings, breakpoint_threshold_type='percentile', breakpoint_threshold_amount=90)"
   ]
  },
  {
   "cell_type": "code",
   "execution_count": 6,
   "id": "6086622a",
   "metadata": {},
   "outputs": [],
   "source": [
    "splitted_docs = text_splitter.split_documents(docs)"
   ]
  },
  {
   "cell_type": "code",
   "execution_count": 7,
   "id": "eadb4380",
   "metadata": {},
   "outputs": [],
   "source": [
    "vectorstore = FAISS.from_documents(docs, base_embeddings)\n",
    "chunks_query_retriever = vectorstore.as_retriever(search_kwargs={\"k\": 2})"
   ]
  },
  {
   "cell_type": "code",
   "execution_count": 9,
   "id": "7909f804",
   "metadata": {},
   "outputs": [],
   "source": [
    "test_query = \"What is the main cause of climate change?\"\n",
    "\n",
    "retrieved = chunks_query_retriever.invoke(test_query)\n",
    "context = [doc.page_content for doc in retrieved]"
   ]
  },
  {
   "cell_type": "code",
   "execution_count": 10,
   "id": "5d892176",
   "metadata": {},
   "outputs": [
    {
     "name": "stdout",
     "output_type": "stream",
     "text": [
      "Context 1:\n",
      "Understanding Climate Change \n",
      "Chapter 1: Introduction to Climate Change \n",
      "Climate change refers to significant, long-term changes in the global climate. The term \n",
      "\"global climate\" encompasses the planet's overall weather patterns, including temperature, \n",
      "precipitation, and wind patterns, over an extended period. Over the past century, human \n",
      "activities, particularly the burning of fossil fuels and deforestation, have significantly \n",
      "contributed to climate change. \n",
      "Historical Context \n",
      "The Earth's climate has changed throughout history. Over the past 650,000 years, there have \n",
      "been seven cycles of glacial advance and retreat, with the abrupt end of the last ice age about \n",
      "11,700 years ago marking the beginning of the modern climate era and human civilization. \n",
      "Most of these climate changes are attributed to very small variations in Earth's orbit that \n",
      "change the amount of solar energy our planet receives. During the Holocene epoch, which \n",
      "began at the end of the last ice age, human societies flourished, but the industrial era has seen \n",
      "unprecedented changes. \n",
      "Modern Observations \n",
      "Modern scientific observations indicate a rapid increase in global temperatures, sea levels, \n",
      "and extreme weather events. The Intergovernmental Panel on Climate Change (IPCC) has \n",
      "documented these changes extensively. Ice core samples, tree rings, and ocean sediments \n",
      "provide a historical record that scientists use to understand past climate conditions and \n",
      "predict future trends. The evidence overwhelmingly shows that recent changes are primarily \n",
      "driven by human activities, particularly the emission of greenhouse gases. \n",
      "Chapter 2: Causes of Climate Change \n",
      "Greenhouse Gases \n",
      "The primary cause of recent climate change is the increase in greenhouse gases in the \n",
      "atmosphere. Greenhouse gases, such as carbon dioxide (CO2), methane (CH4), and nitrous \n",
      "oxide (N2O), trap heat from the sun, creating a \"greenhouse effect.\" This effect is essential \n",
      "for life on Earth, as it keeps the planet warm enough to support life. However, human \n",
      "activities have intensified this natural process, leading to a warmer climate. \n",
      "Fossil Fuels \n",
      "Burning fossil fuels for energy releases large amounts of CO2. This includes coal, oil, and \n",
      "natural gas used for electricity, heating, and transportation. The industrial revolution marked \n",
      "the beginning of a significant increase in fossil fuel consumption, which continues to rise \n",
      "today. \n",
      "Coal\n",
      "\n",
      "\n",
      "Context 2:\n",
      "The Arctic is warming at more than twice the global average rate, leading to significant ice \n",
      "loss. Antarctic ice sheets are also losing mass, contributing to sea level rise. This melting \n",
      "affects global ocean currents and weather patterns. \n",
      "Glacial Retreat \n",
      "Glaciers around the world are retreating, affecting water supplies for millions of people. \n",
      "Regions dependent on glacial meltwater, such as the Himalayas and the Andes, face \n",
      "particular risks. Glacial melt also impacts hydropower generation and agriculture. \n",
      "Coastal Erosion \n",
      "Rising sea levels and increased storm surges are accelerating coastal erosion, threatening \n",
      "homes, infrastructure, and ecosystems. Low-lying islands and coastal regions are especially \n",
      "vulnerable. Coastal communities must invest in adaptation measures like sea walls and \n",
      "managed retreats. \n",
      "Extreme Weather Events \n",
      "Climate change is linked to an increase in the frequency and severity of extreme weather \n",
      "events, such as hurricanes, heatwaves, droughts, and heavy rainfall. These events can have \n",
      "devastating impacts on communities, economies, and ecosystems. \n",
      "Hurricanes and Typhoons \n",
      "Warmer ocean temperatures can intensify hurricanes and typhoons, leading to more \n",
      "destructive storms. Coastal regions are at heightened risk of storm surge and flooding. Early \n",
      "warning systems and resilient infrastructure are critical for mitigating these risks. \n",
      "Droughts \n",
      "Increased temperatures and changing precipitation patterns are contributing to more frequent \n",
      "and severe droughts. This affects agriculture, water supply, and ecosystems, particularly in \n",
      "arid and semi-arid regions. Droughts can lead to food and water shortages and exacerbate \n",
      "conflicts. \n",
      "Flooding \n",
      "Heavy rainfall events are becoming more common, leading to increased flooding. Urban \n",
      "areas with poor drainage and infrastructure are particularly at risk. Flood management \n",
      "strategies include improved drainage systems, green infrastructure, and floodplain restoration. \n",
      "Ocean Acidification \n",
      "Increased CO2 levels in the atmosphere lead to higher concentrations of CO2 in the oceans. \n",
      "This causes the water to become more acidic, which can harm marine life, particularly \n",
      "organisms with calcium carbonate shells or skeletons, such as corals and some shellfish. \n",
      "Coral Reefs\n",
      "\n",
      "\n"
     ]
    }
   ],
   "source": [
    "for i, c in enumerate(context):\n",
    "        print(f\"Context {i + 1}:\")\n",
    "        print(c)\n",
    "        print(\"\\n\")"
   ]
  }
 ],
 "metadata": {
  "kernelspec": {
   "display_name": "rag",
   "language": "python",
   "name": "python3"
  },
  "language_info": {
   "codemirror_mode": {
    "name": "ipython",
    "version": 3
   },
   "file_extension": ".py",
   "mimetype": "text/x-python",
   "name": "python",
   "nbconvert_exporter": "python",
   "pygments_lexer": "ipython3",
   "version": "3.11.13"
  }
 },
 "nbformat": 4,
 "nbformat_minor": 5
}
