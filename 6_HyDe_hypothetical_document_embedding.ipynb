{
 "cells": [
  {
   "cell_type": "code",
   "execution_count": 12,
   "id": "a40bfbb2",
   "metadata": {},
   "outputs": [
    {
     "data": {
      "text/plain": [
       "True"
      ]
     },
     "execution_count": 12,
     "metadata": {},
     "output_type": "execute_result"
    }
   ],
   "source": [
    "from langchain_google_genai import ChatGoogleGenerativeAI, GoogleGenerativeAIEmbeddings\n",
    "from langchain.prompts import PromptTemplate\n",
    "from langchain.vectorstores import FAISS\n",
    "from langchain.document_loaders import PyPDFLoader\n",
    "from langchain.text_splitter import RecursiveCharacterTextSplitter\n",
    "from langchain.chains.hyde.base import HypotheticalDocumentEmbedder\n",
    "import os\n",
    "from dotenv import load_dotenv \n",
    "\n",
    "load_dotenv()"
   ]
  },
  {
   "cell_type": "code",
   "execution_count": 22,
   "id": "3c912f50",
   "metadata": {},
   "outputs": [],
   "source": [
    "llm = ChatGoogleGenerativeAI(\n",
    "    model=\"gemini-2.5-flash\",\n",
    "    temperature=0,\n",
    "    timeout=None,\n",
    "    max_retries=2,\n",
    "    # other params...\n",
    ")\n",
    "\n",
    "base_embeddings = GoogleGenerativeAIEmbeddings(model=\"gemini-embedding-001\")"
   ]
  },
  {
   "cell_type": "code",
   "execution_count": null,
   "id": "dfc9d948",
   "metadata": {},
   "outputs": [],
   "source": [
    "loader = PyPDFLoader(\"RAG_TECHNIQUES/data/Understanding_Climate_Change.pdf\")\n",
    "docs = loader.load()\n",
    "\n",
    "text_splitter = RecursiveCharacterTextSplitter.from_tiktoken_encoder(chunk_size=500, chunk_overlap=50)\n",
    "split_documents = text_splitter.split_documents(docs)\n",
    "\n",
    "print(f\"Successfully split the document into {len(split_documents)} chunks.\")"
   ]
  },
  {
   "cell_type": "code",
   "execution_count": 23,
   "id": "f64b24ee",
   "metadata": {},
   "outputs": [
    {
     "name": "stdout",
     "output_type": "stream",
     "text": [
      "Creating the standard FAISS vector store...\n",
      "Standard retriever is ready.\n"
     ]
    }
   ],
   "source": [
    "print(\"Creating the standard FAISS vector store...\")\n",
    "vectorstore_standard = FAISS.from_documents(documents=split_documents, embedding=base_embeddings)\n",
    "\n",
    "# Create the standard retriever\n",
    "standard_retriever = vectorstore_standard.as_retriever(search_kwargs={'k': 3})\n",
    "\n",
    "print(\"Standard retriever is ready.\")"
   ]
  },
  {
   "cell_type": "code",
   "execution_count": 25,
   "id": "2c8223e8",
   "metadata": {},
   "outputs": [
    {
     "name": "stdout",
     "output_type": "stream",
     "text": [
      "Instantiating HypotheticalDocumentEmbedder...\n",
      "Creating the HyDE-powered FAISS vector store...\n",
      "HyDE retriever is ready.\n"
     ]
    }
   ],
   "source": [
    "print(\"Instantiating HypotheticalDocumentEmbedder...\")\n",
    "\n",
    "# 1. Create the HyDE embeddings object\n",
    "# This object wraps our LLM and the base embeddings model.\n",
    "hyde_embeddings = HypotheticalDocumentEmbedder.from_llm(\n",
    "    llm=llm,\n",
    "    base_embeddings=base_embeddings,\n",
    "    prompt_key=\"web_search\"  # Use a pre-defined prompt suitable for web documents\n",
    ")\n",
    "\n",
    "# 2. Create a new vector store using the HyDE embeddings\n",
    "# The documents are still embedded with the base model, but queries will use the HyDE process.\n",
    "print(\"Creating the HyDE-powered FAISS vector store...\")\n",
    "vectorstore_hyde = FAISS.from_documents(documents=split_documents, embedding=hyde_embeddings)\n",
    "\n",
    "# 3. Create the HyDE retriever\n",
    "hyde_retriever = vectorstore_hyde.as_retriever(search_kwargs={'k': 3})\n",
    "\n",
    "print(\"HyDE retriever is ready.\")"
   ]
  },
  {
   "cell_type": "code",
   "execution_count": 26,
   "id": "dba84716",
   "metadata": {},
   "outputs": [
    {
     "name": "stdout",
     "output_type": "stream",
     "text": [
      "--- 1. Testing Standard Retriever ---\n",
      "\n",
      "Found 3 documents:\n",
      "\n",
      "[Result 1]\n",
      "Source: RAG_TECHNIQUES/data/Understanding_Climate_Change.pdf\n",
      "Content: Understanding Climate Change \n",
      "Chapter 1: Introduction to Climate Change \n",
      "Climate change refers to significant, long-term changes in the global climate. The term \n",
      "\"global climate\" encompasses the planet's overall weather patterns, including temperature, \n",
      "precipitation, and wind patterns, over an exte...\n",
      "\n",
      "[Result 2]\n",
      "Source: RAG_TECHNIQUES/data/Understanding_Climate_Change.pdf\n",
      "Content: Fossil Fuels \n",
      "Burning fossil fuels for energy releases large amounts of CO2. This includes coal, oil, and \n",
      "natural gas used for electricity, heating, and transportation. The industrial revolution marked \n",
      "the beginning of a significant increase in fossil fuel consumption, which continues to rise \n",
      "tod...\n",
      "\n",
      "[Result 3]\n",
      "Source: RAG_TECHNIQUES/data/Understanding_Climate_Change.pdf\n",
      "Content: Agriculture \n",
      "Agriculture contributes to climate change through methane emissions from livestock, rice \n",
      "paddies, and the use of synthetic fertilizers. Methane is a potent greenhouse gas with a much \n",
      "higher heat-trapping capability than CO2, albeit in smaller quantities. \n",
      "Livestock Emissions...\n",
      "\n",
      "\n",
      "--- 2. Testing HyDE Retriever ---\n",
      "\n",
      "Found 3 documents:\n",
      "\n",
      "[Result 1]\n",
      "Source: RAG_TECHNIQUES/data/Understanding_Climate_Change.pdf\n",
      "Content: Understanding Climate Change \n",
      "Chapter 1: Introduction to Climate Change \n",
      "Climate change refers to significant, long-term changes in the global climate. The term \n",
      "\"global climate\" encompasses the planet's overall weather patterns, including temperature, \n",
      "precipitation, and wind patterns, over an exte...\n",
      "\n",
      "[Result 2]\n",
      "Source: RAG_TECHNIQUES/data/Understanding_Climate_Change.pdf\n",
      "Content: Coal is the most carbon-intensive fossil fuel, and its use for electricity generation is a major \n",
      "source of CO2 emissions. Despite a decline in some regions, coal remains a significant \n",
      "energy source globally. It is mined extensively in countries like China, India, and the United \n",
      "States, contributi...\n",
      "\n",
      "[Result 3]\n",
      "Source: RAG_TECHNIQUES/data/Understanding_Climate_Change.pdf\n",
      "Content: Fossil Fuels \n",
      "Burning fossil fuels for energy releases large amounts of CO2. This includes coal, oil, and \n",
      "natural gas used for electricity, heating, and transportation. The industrial revolution marked \n",
      "the beginning of a significant increase in fossil fuel consumption, which continues to rise \n",
      "tod...\n"
     ]
    }
   ],
   "source": [
    "query = \"What is the main cause of climate change?\"\n",
    "\n",
    "# --- Test the Standard Retriever ---\n",
    "print(\"--- 1. Testing Standard Retriever ---\")\n",
    "standard_results = standard_retriever.invoke(query)\n",
    "\n",
    "print(f\"\\nFound {len(standard_results)} documents:\")\n",
    "for i, doc in enumerate(standard_results):\n",
    "    print(f\"\\n[Result {i+1}]\")\n",
    "    print(f\"Source: {doc.metadata.get('source')}\")\n",
    "    print(f\"Content: {doc.page_content[:300]}...\")\n",
    "\n",
    "# --- Test the HyDE Retriever ---\n",
    "print(\"\\n\\n--- 2. Testing HyDE Retriever ---\")\n",
    "hyde_results = hyde_retriever.invoke(query)\n",
    "\n",
    "print(f\"\\nFound {len(hyde_results)} documents:\")\n",
    "for i, doc in enumerate(hyde_results):\n",
    "    print(f\"\\n[Result {i+1}]\")\n",
    "    print(f\"Source: {doc.metadata.get('source')}\")\n",
    "    print(f\"Content: {doc.page_content[:300]}...\")"
   ]
  },
  {
   "cell_type": "code",
   "execution_count": 30,
   "id": "72d77342",
   "metadata": {},
   "outputs": [
    {
     "data": {
      "text/plain": [
       "PromptTemplate(input_variables=['QUESTION'], input_types={}, partial_variables={}, template='Please write a passage to answer the question\\nQuestion: {QUESTION}\\nPassage:')\n",
       "| ChatGoogleGenerativeAI(model='models/gemini-2.5-flash', google_api_key=SecretStr('**********'), temperature=0.0, max_retries=2, client=<google.ai.generativelanguage_v1beta.services.generative_service.client.GenerativeServiceClient object at 0x0000022862C3CCD0>, default_metadata=(), model_kwargs={})\n",
       "| StrOutputParser()"
      ]
     },
     "execution_count": 30,
     "metadata": {},
     "output_type": "execute_result"
    }
   ],
   "source": [
    "hypothetical_document_chain = hyde_embeddings.llm_chain\n",
    "hypothetical_document_chain"
   ]
  },
  {
   "cell_type": "code",
   "execution_count": 29,
   "id": "864b749c",
   "metadata": {},
   "outputs": [
    {
     "name": "stdout",
     "output_type": "stream",
     "text": [
      "--- Hypothetical Document Generated by HyDE ---\n",
      "The main cause of climate change is **human activity**, primarily the emission of greenhouse gases into the Earth's atmosphere.\n",
      "\n",
      "Specifically, the burning of fossil fuels—coal, oil, and natural gas—for energy production, transportation, and industrial processes releases vast quantities of carbon dioxide (CO2). Deforestation also contributes significantly, as trees absorb CO2, and their removal or burning releases stored carbon. Other human activities, such as agriculture (especially livestock farming and rice cultivation, which produce methane) and industrial processes, release other potent greenhouse gases like methane (CH4) and nitrous oxide (N2O).\n",
      "\n",
      "These gases trap heat in the Earth's atmosphere, leading to a gradual increase in global temperatures, a phenomenon known as the enhanced greenhouse effect. While natural factors like volcanic eruptions and solar variations can influence climate, scientific consensus overwhelmingly points to human-induced emissions as the dominant driver of the rapid and unprecedented warming observed since the Industrial Revolution.\n",
      "---------------------------------------------\n"
     ]
    }
   ],
   "source": [
    "# The llm_chain is an attribute of the HypotheticalDocumentEmbedder instance\n",
    "hypothetical_document_chain = hyde_embeddings.llm_chain\n",
    "\n",
    "# Invoke the chain with our query to see the generated document\n",
    "hypothetical_document = hypothetical_document_chain.invoke({'QUESTION': query})\n",
    "\n",
    "print(\"--- Hypothetical Document Generated by HyDE ---\")\n",
    "print(hypothetical_document)\n",
    "print(\"---------------------------------------------\")"
   ]
  },
  {
   "cell_type": "code",
   "execution_count": 31,
   "id": "9d572884",
   "metadata": {},
   "outputs": [
    {
     "name": "stdout",
     "output_type": "stream",
     "text": [
      "--- Running the Full RAG Chain (Retrieval + Generation) ---\n",
      "\n",
      "Question: What is the main cause of climate change?\n",
      "\n",
      "Final Answer:\n",
      "The primary cause of recent climate change is the increase in greenhouse gases in the atmosphere.\n"
     ]
    }
   ],
   "source": [
    "from langchain_core.prompts import ChatPromptTemplate\n",
    "from langchain_core.output_parsers import StrOutputParser\n",
    "from langchain_core.runnables import RunnablePassthrough\n",
    "\n",
    "# --- 1. Define the Answering Prompt ---\n",
    "# This prompt instructs the LLM on how to use the context to answer the question.\n",
    "prompt_template = ChatPromptTemplate.from_messages([\n",
    "    (\"system\", \"\"\"You are an expert assistant. Your task is to synthesize an answer to the user's question based *only* on the provided context.\n",
    "    If the context does not contain the answer, state that you cannot answer. Do not use any external knowledge.\"\"\"),\n",
    "    (\"human\", \"Context:\\n{context}\\n\\nQuestion: {question}\\n\\nAnswer:\")\n",
    "])\n",
    "\n",
    "# --- 2. Create a Helper Function to Format Documents ---\n",
    "def format_docs(docs):\n",
    "    \"\"\"Combines the page_content of multiple documents into a single string.\"\"\"\n",
    "    return \"\\n\\n---\\n\\n\".join(doc.page_content for doc in docs)\n",
    "\n",
    "# --- 3. Build the Generation Chain ---\n",
    "# This chain will:\n",
    "# 1. Take the user's question.\n",
    "# 2. Use the question to retrieve documents with our HyDE retriever.\n",
    "# 3. Format the retrieved documents into a context string.\n",
    "# 4. Pass the context and question to the prompt.\n",
    "# 5. Pass the formatted prompt to the LLM.\n",
    "# 6. Parse the output.\n",
    "rag_chain = (\n",
    "    {\"context\": hyde_retriever | format_docs, \"question\": RunnablePassthrough()}\n",
    "    | prompt_template\n",
    "    | llm\n",
    "    | StrOutputParser()\n",
    ")\n",
    "\n",
    "# --- 4. Run the Full RAG Chain ---\n",
    "print(\"--- Running the Full RAG Chain (Retrieval + Generation) ---\")\n",
    "\n",
    "# We use the same query as before\n",
    "# query = \"What are the core principles behind agentic design patterns?\"\n",
    "\n",
    "# Invoke the chain. It will automatically run the HyDE retrieval and then the generation.\n",
    "final_answer = rag_chain.invoke(query)\n",
    "\n",
    "print(f\"\\nQuestion: {query}\")\n",
    "print(f\"\\nFinal Answer:\\n{final_answer}\")"
   ]
  }
 ],
 "metadata": {
  "kernelspec": {
   "display_name": "rag",
   "language": "python",
   "name": "python3"
  },
  "language_info": {
   "codemirror_mode": {
    "name": "ipython",
    "version": 3
   },
   "file_extension": ".py",
   "mimetype": "text/x-python",
   "name": "python",
   "nbconvert_exporter": "python",
   "pygments_lexer": "ipython3",
   "version": "3.11.13"
  }
 },
 "nbformat": 4,
 "nbformat_minor": 5
}
