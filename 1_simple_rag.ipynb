{
 "cells": [
  {
   "cell_type": "code",
   "execution_count": null,
   "id": "32786243",
   "metadata": {},
   "outputs": [],
   "source": [
    "pip install -U langchain-google-genai"
   ]
  },
  {
   "cell_type": "code",
   "execution_count": 1,
   "id": "22e5a3b5",
   "metadata": {},
   "outputs": [],
   "source": [
    "import os\n",
    "from dotenv import load_dotenv\n",
    "\n",
    "# LangChain components\n",
    "from langchain_google_genai import GoogleGenerativeAIEmbeddings, ChatGoogleGenerativeAI\n",
    "from langchain.vectorstores import FAISS\n",
    "from langchain.document_loaders import PyPDFLoader\n",
    "from langchain.text_splitter import RecursiveCharacterTextSplitter\n",
    "from langchain.chains.combine_documents import create_stuff_documents_chain\n",
    "from langchain.prompts import ChatPromptTemplate\n",
    "from langchain.chains import create_retrieval_chain\n",
    "\n",
    "# Load environment variables from .env file\n",
    "load_dotenv()\n",
    "\n",
    "# Configure the Gemini API key\n",
    "api_key = os.getenv(\"GEMINI_API_KEY\")\n",
    "if not api_key:\n",
    "    raise ValueError(\"Gemini API Key not found. Please set it in the .env file.\")\n",
    "\n",
    "# Set up the Gemini model for generation\n",
    "llm = ChatGoogleGenerativeAI(\n",
    "    model=\"gemini-2.5-flash\",\n",
    "    temperature=0.5,\n",
    "    max_tokens=500,\n",
    "    timeout=None,\n",
    "    max_retries=2,\n",
    "    # other params...\n",
    ")"
   ]
  },
  {
   "cell_type": "code",
   "execution_count": 2,
   "id": "dac26253",
   "metadata": {},
   "outputs": [
    {
     "name": "stdout",
     "output_type": "stream",
     "text": [
      "Successfully split the document into 97 chunks.\n"
     ]
    }
   ],
   "source": [
    "# 1. PDF Processing and Text Extraction\n",
    "# Load the PDF document from the specified path\n",
    "loader = PyPDFLoader(\"RAG_TECHNIQUES/data/Understanding_Climate_Change.pdf\")\n",
    "docs = loader.load()\n",
    "\n",
    "# 2. Text Chunking\n",
    "# Create a text splitter to divide the document into smaller chunks\n",
    "text_splitter = RecursiveCharacterTextSplitter(chunk_size=1000, chunk_overlap=200)\n",
    "split_documents = text_splitter.split_documents(docs)\n",
    "\n",
    "print(f\"Successfully split the document into {len(split_documents)} chunks.\")"
   ]
  },
  {
   "cell_type": "code",
   "execution_count": 3,
   "id": "3798137e",
   "metadata": {},
   "outputs": [
    {
     "name": "stdout",
     "output_type": "stream",
     "text": [
      "Creating vector store...\n",
      "Vector store created successfully.\n"
     ]
    }
   ],
   "source": [
    "# 3. Vector Store Creation using FAISS and Gemini Embeddings\n",
    "# Create embeddings using the Google Generative AI model\n",
    "embeddings = GoogleGenerativeAIEmbeddings(model=\"gemini-embedding-001\")\n",
    "\n",
    "# Create a FAISS vector store from the document chunks and their embeddings\n",
    "# This process can take a moment as it's embedding all the chunks.\n",
    "print(\"Creating vector store...\")\n",
    "vector_store = FAISS.from_documents(split_documents, embeddings)\n",
    "print(\"Vector store created successfully.\")"
   ]
  },
  {
   "cell_type": "code",
   "execution_count": 4,
   "id": "42655907",
   "metadata": {},
   "outputs": [
    {
     "name": "stdout",
     "output_type": "stream",
     "text": [
      "Vector store contains 97 document chunks.\n"
     ]
    }
   ],
   "source": [
    "print(f\"Vector store contains {vector_store.index.ntotal} document chunks.\")"
   ]
  },
  {
   "cell_type": "code",
   "execution_count": 5,
   "id": "7dbd1f0f",
   "metadata": {},
   "outputs": [
    {
     "name": "stdout",
     "output_type": "stream",
     "text": [
      "[[ 0.00718226 -0.00422319  0.02249423 ...  0.00161143 -0.00949374\n",
      "   0.00066858]\n",
      " [ 0.00765999 -0.0034277   0.02191414 ... -0.00620803 -0.00244515\n",
      "   0.0029413 ]\n",
      " [ 0.0169386  -0.00793521  0.02004413 ... -0.00686916 -0.01498914\n",
      "   0.00635582]\n",
      " ...\n",
      " [-0.00571316 -0.01667989  0.03072413 ... -0.01253151  0.01249439\n",
      "   0.00364568]\n",
      " [-0.007865    0.00577848  0.02488202 ... -0.00015541  0.00481908\n",
      "   0.0127038 ]\n",
      " [-0.01798255 -0.00700301  0.02617744 ... -0.00503353 -0.0052387\n",
      "   0.00881986]]\n"
     ]
    }
   ],
   "source": [
    "# Print the vectors stored in the FAISS vector_store\n",
    "print(vector_store.index.reconstruct_n(0, vector_store.index.ntotal))"
   ]
  },
  {
   "cell_type": "code",
   "execution_count": 6,
   "id": "c8afed66",
   "metadata": {},
   "outputs": [],
   "source": [
    "# 4. Retriever Setup\n",
    "# Create a retriever from the vector store to fetch relevant documents\n",
    "# k=3 means it will retrieve the top 3 most relevant chunks\n",
    "retriever = vector_store.as_retriever(search_kwargs={\"k\": 3})\n",
    "\n",
    "# 5. RAG Chain for Generation\n",
    "# Define the prompt template to guide the LLM\n",
    "# The template instructs the model on how to use the context to answer the question\n",
    "prompt_template = ChatPromptTemplate.from_template(\n",
    "    \"\"\"\n",
    "    You are an assistant for question-answering tasks.\n",
    "    Use the following pieces of retrieved context to answer the question.\n",
    "    If you don't know the answer, just say that you don't know.\n",
    "    Use three sentences maximum and keep the answer concise.\n",
    "\n",
    "    Context: {context}\n",
    "\n",
    "    Question: {input}\n",
    "\n",
    "    Answer:\n",
    "    \"\"\"\n",
    ")\n",
    "\n",
    "# Create a chain to combine the retrieved documents into a single string\n",
    "document_chain = create_stuff_documents_chain(llm, prompt_template)\n",
    "\n",
    "# Create the final retrieval chain that combines the retriever and the document chain\n",
    "# This chain will first retrieve documents and then pass them to the LLM.\n",
    "retrieval_chain = create_retrieval_chain(retriever, document_chain)"
   ]
  },
  {
   "cell_type": "code",
   "execution_count": 9,
   "id": "8a4d67a7",
   "metadata": {},
   "outputs": [
    {
     "name": "stdout",
     "output_type": "stream",
     "text": [
      "\n",
      "Querying the system with: 'What is the main cause of climate change?'\n",
      "\n",
      "Answer:\n",
      "The main cause of recent climate change is the increase in greenhouse gases in the atmosphere. These gases, such as carbon dioxide and methane, trap heat and intensify the natural greenhouse effect. This increase is primarily driven by human activities, particularly the burning of fossil fuels.\n",
      "\n",
      "Retrieved Context:\n",
      "--- Document 1 ---\n",
      "Chapter 2: Causes of Climate Change \n",
      "Greenhouse Gases \n",
      "The primary cause of recent climate change is the increase in greenhouse gases in the \n",
      "atmosphere. Greenhouse gases, such as carbon dioxide (CO2), methane (CH4), and nitrous \n",
      "oxide (N2O), trap heat from the sun, creating a \"greenhouse effect.\" This effect is essential \n",
      "for life on Earth, as it keeps the planet warm enough to support life. However, human \n",
      "activities have intensified this natural process, leading to a warmer climate. \n",
      "Fossil Fuels \n",
      "Burning fossil fuels for energy releases large amounts of CO2. This includes coal, oil, and \n",
      "natural gas used for electricity, heating, and transportation. The industrial revolution marked \n",
      "the beginning of a significant increase in fossil fuel consumption, which continues to rise \n",
      "today. \n",
      "Coal\n",
      "\n",
      "--- Document 2 ---\n",
      "Understanding Climate Change \n",
      "Chapter 1: Introduction to Climate Change \n",
      "Climate change refers to significant, long-term changes in the global climate. The term \n",
      "\"global climate\" encompasses the planet's overall weather patterns, including temperature, \n",
      "precipitation, and wind patterns, over an extended period. Over the past century, human \n",
      "activities, particularly the burning of fossil fuels and deforestation, have significantly \n",
      "contributed to climate change. \n",
      "Historical Context \n",
      "The Earth's climate has changed throughout history. Over the past 650,000 years, there have \n",
      "been seven cycles of glacial advance and retreat, with the abrupt end of the last ice age about \n",
      "11,700 years ago marking the beginning of the modern climate era and human civilization. \n",
      "Most of these climate changes are attributed to very small variations in Earth's orbit that \n",
      "change the amount of solar energy our planet receives. During the Holocene epoch, which\n",
      "\n",
      "--- Document 3 ---\n",
      "Most of these climate changes are attributed to very small variations in Earth's orbit that \n",
      "change the amount of solar energy our planet receives. During the Holocene epoch, which \n",
      "began at the end of the last ice age, human societies flourished, but the industrial era has seen \n",
      "unprecedented changes. \n",
      "Modern Observations \n",
      "Modern scientific observations indicate a rapid increase in global temperatures, sea levels, \n",
      "and extreme weather events. The Intergovernmental Panel on Climate Change (IPCC) has \n",
      "documented these changes extensively. Ice core samples, tree rings, and ocean sediments \n",
      "provide a historical record that scientists use to understand past climate conditions and \n",
      "predict future trends. The evidence overwhelmingly shows that recent changes are primarily \n",
      "driven by human activities, particularly the emission of greenhouse gases. \n",
      "Chapter 2: Causes of Climate Change \n",
      "Greenhouse Gases \n",
      "The primary cause of recent climate change is the increase in greenhouse gases in the\n",
      "\n"
     ]
    }
   ],
   "source": [
    "# 6. Query the RAG system\n",
    "question = \"What is the main cause of climate change?\" # Change this to a question relevant to your PDF\n",
    "print(f\"\\nQuerying the system with: '{question}'\")\n",
    "\n",
    "response = retrieval_chain.invoke({\"input\": question})\n",
    "\n",
    "# Print the answer\n",
    "print(\"\\nAnswer:\")\n",
    "print(response[\"answer\"])\n",
    "\n",
    "# To see the retrieved context, you can inspect the response object\n",
    "print(\"\\nRetrieved Context:\")\n",
    "for i, doc in enumerate(response[\"context\"]):\n",
    "    print(f\"--- Document {i+1} ---\\n{doc.page_content}\\n\")"
   ]
  }
 ],
 "metadata": {
  "kernelspec": {
   "display_name": "rag",
   "language": "python",
   "name": "python3"
  },
  "language_info": {
   "codemirror_mode": {
    "name": "ipython",
    "version": 3
   },
   "file_extension": ".py",
   "mimetype": "text/x-python",
   "name": "python",
   "nbconvert_exporter": "python",
   "pygments_lexer": "ipython3",
   "version": "3.11.13"
  }
 },
 "nbformat": 4,
 "nbformat_minor": 5
}
