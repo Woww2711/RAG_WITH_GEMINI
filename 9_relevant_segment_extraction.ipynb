{
 "cells": [
  {
   "cell_type": "code",
   "execution_count": 6,
   "id": "ba582aa6",
   "metadata": {},
   "outputs": [
    {
     "data": {
      "text/plain": [
       "True"
      ]
     },
     "execution_count": 6,
     "metadata": {},
     "output_type": "execute_result"
    }
   ],
   "source": [
    "import os\n",
    "import numpy as np\n",
    "from typing import List\n",
    "from scipy.stats import beta\n",
    "import matplotlib.pyplot as plt\n",
    "import cohere\n",
    "from dotenv import load_dotenv\n",
    "\n",
    "from langchain_text_splitters import RecursiveCharacterTextSplitter\n",
    "\n",
    "# Load environment variables from a .env file\n",
    "load_dotenv()"
   ]
  },
  {
   "cell_type": "code",
   "execution_count": 7,
   "id": "2a93d2e9",
   "metadata": {},
   "outputs": [],
   "source": [
    "def split_into_chunks(text: str, chunk_size: int):\n",
    "    \"\"\"\n",
    "    Split a given text into chunks of specified size using RecursiveCharacterTextSplitter.\n",
    "\n",
    "    Args:\n",
    "        text (str): The input text to be split into chunks.\n",
    "        chunk_size (int, optional): The maximum size of each chunk. Defaults to 800.\n",
    "\n",
    "    Returns:\n",
    "        list[str]: A list of text chunks.\n",
    "\n",
    "    Example:\n",
    "        >>> text = \"This is a sample text to be split into chunks.\"\n",
    "        >>> chunks = split_into_chunks(text, chunk_size=10)\n",
    "        >>> print(chunks)\n",
    "        ['This is a', 'sample', 'text to', 'be split', 'into', 'chunks.']\n",
    "    \"\"\"\n",
    "    text_splitter = RecursiveCharacterTextSplitter(chunk_size=chunk_size, chunk_overlap=0, length_function=len)\n",
    "    texts = text_splitter.create_documents([text])\n",
    "    chunks = [text.page_content for text in texts]\n",
    "    return chunks"
   ]
  },
  {
   "cell_type": "code",
   "execution_count": 8,
   "id": "49ff3af1",
   "metadata": {},
   "outputs": [],
   "source": [
    "def transform(x: float):\n",
    "    \"\"\"\n",
    "    Transformation function to map the absolute relevance value to a value that is more uniformly distributed between 0 and 1. The relevance values given by the Cohere reranker tend to be very close to 0 or 1. This beta function used here helps to spread out the values more uniformly.\n",
    "\n",
    "    Args:\n",
    "        x (float): The absolute relevance value returned by the Cohere reranker\n",
    "\n",
    "    Returns:\n",
    "        float: The transformed relevance value\n",
    "    \"\"\"\n",
    "    a, b = 0.4, 0.4  # These can be adjusted to change the distribution shape\n",
    "    return beta.cdf(x, a, b)"
   ]
  },
  {
   "cell_type": "code",
   "execution_count": 9,
   "id": "ecb26e9a",
   "metadata": {},
   "outputs": [],
   "source": [
    "def rerank_chunks(query: str, chunks: List[str]):\n",
    "    \"\"\"\n",
    "    Use Cohere Rerank API to rerank the search results\n",
    "\n",
    "    Args:\n",
    "        query (str): The search query\n",
    "        chunks (list): List of chunks to be reranked\n",
    "\n",
    "    Returns:\n",
    "        similarity_scores (list): List of similarity scores for each chunk\n",
    "        chunk_values (list): List of relevance values (fusion of rank and similarity) for each chunk\n",
    "    \"\"\"\n",
    "    model = \"rerank-english-v3.0\"\n",
    "    client = cohere.Client()\n",
    "    decay_rate = 30\n",
    "\n",
    "    reranked_results = client.rerank(model=model, query=query, documents=chunks)\n",
    "    results = reranked_results.results\n",
    "    reranked_indices = [result.index for result in results]\n",
    "    reranked_similarity_scores = [result.relevance_score for result in results] # in order of reranked_indices\n",
    "    \n",
    "    # convert back to order of original documents and calculate the chunk values\n",
    "    similarity_scores = [0] * len(chunks)\n",
    "    chunk_values = [0] * len(chunks)\n",
    "    for i, index in enumerate(reranked_indices):\n",
    "        absolute_relevance_value = transform(reranked_similarity_scores[i])\n",
    "        similarity_scores[index] = absolute_relevance_value\n",
    "        chunk_values[index] = np.exp(-i/decay_rate)*absolute_relevance_value # decay the relevance value based on the rank\n",
    "\n",
    "    return similarity_scores, chunk_values"
   ]
  },
  {
   "cell_type": "code",
   "execution_count": 10,
   "id": "ccaac7d8",
   "metadata": {},
   "outputs": [],
   "source": [
    "def plot_relevance_scores(chunk_values: List[float], start_index: int = None, end_index: int = None) -> None:\n",
    "    \"\"\"\n",
    "    Visualize the relevance scores of each chunk in the document to the search query\n",
    "\n",
    "    Args:\n",
    "        chunk_values (list): List of relevance values for each chunk\n",
    "        start_index (int): Start index of the chunks to be plotted\n",
    "        end_index (int): End index of the chunks to be plotted\n",
    "\n",
    "    Returns:\n",
    "        None\n",
    "\n",
    "    Plots:\n",
    "        Scatter plot of the relevance scores of each chunk in the document to the search query\n",
    "    \"\"\"\n",
    "    plt.figure(figsize=(12, 5))\n",
    "    plt.title(f\"Similarity of each chunk in the document to the search query\")\n",
    "    plt.ylim(0, 1)\n",
    "    plt.xlabel(\"Chunk index\")\n",
    "    plt.ylabel(\"Query-chunk similarity\")\n",
    "    if start_index is None:\n",
    "        start_index = 0\n",
    "    if end_index is None:\n",
    "        end_index = len(chunk_values)\n",
    "    plt.scatter(range(start_index, end_index), chunk_values[start_index:end_index])"
   ]
  },
  {
   "cell_type": "code",
   "execution_count": 13,
   "id": "1f6b74d0",
   "metadata": {},
   "outputs": [
    {
     "name": "stdout",
     "output_type": "stream",
     "text": [
      "Split the document into 500 chunks\n"
     ]
    }
   ],
   "source": [
    "FILE_PATH = \"RAG_TECHNIQUES/data/nike_2023_annual_report.txt\"\n",
    "\n",
    "with open(FILE_PATH, 'r') as file:\n",
    "    text = file.read()\n",
    "\n",
    "chunks = split_into_chunks(text, chunk_size=800)\n",
    "\n",
    "print (f\"Split the document into {len(chunks)} chunks\")"
   ]
  },
  {
   "cell_type": "code",
   "execution_count": 18,
   "id": "cfdfd8e8",
   "metadata": {},
   "outputs": [],
   "source": [
    "query = \"Nike's sales statistics\"\n",
    "\n",
    "similarity_scores, chunk_values = rerank_chunks(query, chunks)"
   ]
  },
  {
   "cell_type": "code",
   "execution_count": 19,
   "id": "3c906af0",
   "metadata": {},
   "outputs": [
    {
     "data": {
      "image/png": "[encoded data removed]",
      "text/plain": [
       "<Figure size 1200x500 with 1 Axes>"
      ]
     },
     "metadata": {},
     "output_type": "display_data"
    }
   ],
   "source": [
    "plot_relevance_scores(chunk_values)"
   ]
  },
  {
   "cell_type": "code",
   "execution_count": 21,
   "id": "9a1908d8",
   "metadata": {},
   "outputs": [
    {
     "data": {
      "image/png": "[encoded data removed]",
      "text/plain": [
       "<Figure size 1200x500 with 1 Axes>"
      ]
     },
     "metadata": {},
     "output_type": "display_data"
    }
   ],
   "source": [
    "plot_relevance_scores(chunk_values, 190, 250)"
   ]
  },
  {
   "cell_type": "code",
   "execution_count": 23,
   "id": "e7032f61",
   "metadata": {},
   "outputs": [],
   "source": [
    "def print_document_segment(chunks: List[str], start_index: int, end_index: int):\n",
    "    \"\"\"\n",
    "    Print the text content of a segment of the document\n",
    "\n",
    "    Args:\n",
    "        chunks (list): List of text chunks\n",
    "        start_index (int): Start index of the segment\n",
    "        end_index (int): End index of the segment (not inclusive)\n",
    "\n",
    "    Returns:\n",
    "        None\n",
    "\n",
    "    Prints:\n",
    "        The text content of the specified segment of the document\n",
    "    \"\"\"\n",
    "    for i in range(start_index, end_index):\n",
    "        print(f\"\\nChunk {i}\")\n",
    "        print(chunks[i])"
   ]
  },
  {
   "cell_type": "code",
   "execution_count": 24,
   "id": "f15d1631",
   "metadata": {},
   "outputs": [
    {
     "name": "stdout",
     "output_type": "stream",
     "text": [
      "\n",
      "Chunk 212\n",
      "TOTAL NIKE, INC. REVENUES $ 51,217 $ 46,710  10 %  16 % $ 44,538  5 %  6 %\n",
      "Supplemental NIKE Brand Revenues Details:\n",
      "NIKE Brand Revenues by:\n",
      "Sales to Wholesale Customers $ 27,397 $ 25,608  7 %  14 % $ 25,898  -1 %  -1 %\n",
      "Sales through NIKE Direct  21,308  18,726  14 %  20 %  16,370  14 %  15 %\n",
      "Global Brand Divisions(2) 58  102  -43 %  -43 %  25  308 %  302 %\n",
      "TOTAL NIKE BRAND REVENUES $ 48,763 $ 44,436  10 %  16 % $ 42,293  5 %  6 %\n",
      "NIKE Brand Revenues on a Wholesale Equivalent \n",
      "Basis(1):\n",
      "Sales to Wholesale Customers $ 27,397 $ 25,608  7 %  14 % $ 25,898  -1 %  -1 %\n",
      "Sales from our Wholesale Operations to NIKE Direct \n",
      "Operations  12,730  10,543  21 %  27 %  9,872  7 %  7 %\n",
      "TOTAL NIKE BRAND WHOLESALE EQUIVALENT \n",
      "REVENUES $ 40,127 $ 36,151  11 %  18 % $ 35,770  1 %  1 %\n",
      "\n",
      "Chunk 213\n",
      "NIKE Brand Wholesale Equivalent Revenues by:(1),(4)\n",
      "Men's $ 20,733 $ 18,797  10 %  17 % $ 18,391  2 %  3 %\n",
      "Women's  8,606  8,273  4 %  11 %  8,225  1 %  1 %\n",
      "NIKE Kids'  5,038  4,874  3 %  10 %  4,882  0 %  0 %\n",
      "Jordan Brand  6,589  5,122  29 %  35 %  4,780  7 %  7 %\n",
      "Others(5) (839)  (915)  8 %  -3 %  (508)  -80 %  -79 %\n",
      "TOTAL NIKE BRAND WHOLESALE EQUIVALENT \n",
      "REVENUES $ 40,127 $ 36,151  11 %  18 % $ 35,770  1 %  1 %\n",
      "(1) The percent change excluding currency changes and the presentation of wholesale equivalent revenues represent non-GAAP financial measures. For \n",
      "further information, see \"Use of Non-GAAP Financial Measures\".\n",
      "(2) Global Brand Divisions revenues include NIKE Brand licensing and other miscellaneous revenues that are not part of a geographic operating segment.\n",
      "\n",
      "Chunk 214\n",
      "(3) Corporate revenues primarily consist of foreign currency hedge gains and losses related to revenues generated by entities within the NIKE Brand \n",
      "geographic operating segments and Converse, but managed through our central foreign exchange risk management program.\n",
      "(4) As a result of the Consumer Direct Acceleration strategy, announced in fiscal 2021, the Company is now organized around a consumer construct of \n",
      "Men's, Women's and Kids'. Beginning in the first quarter of fiscal 2022, unisex products are classified within Men's, and Jordan Brand revenues are \n",
      "separately reported. Certain prior year amounts were reclassified to conform to fiscal 2022 presentation. These changes had no impact on previously \n",
      "reported consolidated results of operations or shareholders' equity.\n",
      "\n",
      "Chunk 215\n",
      "(5) Others include products not allocated to Men's, Women's, NIKE Kids' and Jordan Brand, as well as certain adjustments that are not allocated to \n",
      "products designated by consumer.\n",
      "NIKE, INC.      32FISCAL 2023 NIKE BRAND REVENUE HIGHLIGHTS\n",
      "The following tables present NIKE Brand revenues disaggregated by reportable operating segment, distribution channel and \n",
      "major product line:\n",
      "FISCAL 2023 COMPARED TO FISCAL 2022\n",
      "•NIKE, Inc. Revenues were $51.2 billion in fiscal 2023, which increased 10% and 16% compared to fiscal 2022 on a reported \n",
      "and currency-neutral basis, respectively. The increase was due to higher revenues in North America, Europe, Middle East & \n",
      "Africa (\"EMEA\"), APLA and Greater China, which contributed approximately 7, 6, 2 and 1 percentage points to NIKE, Inc.\n",
      "\n",
      "Chunk 216\n",
      "Revenues, respectively. \n",
      "•NIKE Brand revenues, which represented over 90% of NIKE, Inc. Revenues,  increased  10% and 16% on a reported and \n",
      "currency-neutral basis, respectively. This increase was primarily due to higher revenues in Men's, the Jordan Brand, \n",
      "Women's and Kids' which grew 17%, 35%,11% and 10%, respectively, on a wholesale equivalent basis. \n",
      "•NIKE Brand footwear revenues increased 20% on a currency-neutral basis, due to higher revenues in Men's, the \n",
      "Jordan Brand, Women's and Kids'. Unit sales of footwear increased 13%, while higher average selling price (\"ASP\") \n",
      "per pair contributed approximately 7 percentage points of footwear revenue growth. Higher ASP was primarily due to\n",
      "\n",
      "Chunk 217\n",
      "higher full-price ASP, net of discounts, on a wholesale equivalent basis, and growth in the size of our NIKE Direct \n",
      "business, partially offset by lower NIKE Direct ASP. \n",
      "•NIKE Brand apparel revenues increased 8% on a currency-neutral basis, primarily due to higher revenues in Men's. \n",
      "Unit sales of apparel increased 4%, while higher ASP per unit contributed approximately 4 percentage points of \n",
      "apparel revenue growth. Higher ASP was primarily due to higher full-price ASP and growth in the size of our NIKE \n",
      "Direct business, partially offset by lower NIKE Direct ASP, reflecting higher promotional activity.\n",
      "•NIKE Direct revenues increased 14% from $18.7 billion in fiscal 2022 to $21.3 billion in fiscal 2023. On a currency-neutral\n"
     ]
    }
   ],
   "source": [
    "print_document_segment(chunks, 212, 218)"
   ]
  },
  {
   "cell_type": "code",
   "execution_count": 25,
   "id": "2f862f5a",
   "metadata": {},
   "outputs": [],
   "source": [
    "def get_best_segments(relevance_values: list, max_length: int, overall_max_length: int, minimum_value: float):\n",
    "    \"\"\"\n",
    "    This function takes the chunk relevance values and then runs an optimization algorithm to find the best segments. In more technical terms, it solves a constrained version of the maximum sum subarray problem.\n",
    "\n",
    "    Note: this is a simplified implementation intended for demonstration purposes. A more sophisticated implementation would be needed for production use and is available in the dsRAG library.\n",
    "\n",
    "    Args:\n",
    "        relevance_values (list): a list of relevance values for each chunk of a document\n",
    "        max_length (int): the maximum length of a single segment (measured in number of chunks)\n",
    "        overall_max_length (int): the maximum length of all segments (measured in number of chunks)\n",
    "        minimum_value (float): the minimum value that a segment must have to be considered\n",
    "\n",
    "    Returns:\n",
    "        best_segments (list): a list of tuples (start, end) that represent the indices of the best segments (the end index is non-inclusive) in the document\n",
    "        scores (list): a list of the scores for each of the best segments\n",
    "    \"\"\"\n",
    "    best_segments = []\n",
    "    scores = []\n",
    "    total_length = 0\n",
    "    while total_length < overall_max_length:\n",
    "        # find the best remaining segment\n",
    "        best_segment = None\n",
    "        best_value = -1000\n",
    "        for start in range(len(relevance_values)):\n",
    "            # skip over negative value starting points\n",
    "            if relevance_values[start] < 0:\n",
    "                continue\n",
    "            for end in range(start+1, min(start+max_length+1, len(relevance_values)+1)):\n",
    "                # skip over negative value ending points\n",
    "                if relevance_values[end-1] < 0:\n",
    "                    continue\n",
    "                # check if this segment overlaps with any of the best segments and skip if it does\n",
    "                if any(start < seg_end and end > seg_start for seg_start, seg_end in best_segments):\n",
    "                    continue\n",
    "                # check if this segment would push us over the overall max length and skip if it would\n",
    "                if total_length + end - start > overall_max_length:\n",
    "                    continue\n",
    "                \n",
    "                # define segment value as the sum of the relevance values of its chunks\n",
    "                segment_value = sum(relevance_values[start:end])\n",
    "                if segment_value > best_value:\n",
    "                    best_value = segment_value\n",
    "                    best_segment = (start, end)\n",
    "        \n",
    "        # if we didn't find a valid segment then we're done\n",
    "        if best_segment is None or best_value < minimum_value:\n",
    "            break\n",
    "\n",
    "        # otherwise, add the segment to the list of best segments\n",
    "        best_segments.append(best_segment)\n",
    "        scores.append(best_value)\n",
    "        total_length += best_segment[1] - best_segment[0]\n",
    "    \n",
    "    return best_segments, scores"
   ]
  },
  {
   "cell_type": "code",
   "execution_count": 26,
   "id": "e068520f",
   "metadata": {},
   "outputs": [
    {
     "name": "stdout",
     "output_type": "stream",
     "text": [
      "Best segment indices\n",
      "[(211, 219), (440, 444), (17, 20), (451, 455), (227, 232)]\n",
      "\n",
      "Best segment scores\n",
      "[np.float64(2.410412170120467), np.float64(1.5558136290917328), np.float64(0.8734136436026982), np.float64(0.8593568917675758), np.float64(0.8541710406182516)]\n",
      "\n"
     ]
    }
   ],
   "source": [
    "# define some parameters and constraints for the optimization\n",
    "irrelevant_chunk_penalty = 0.2 # empirically, something around 0.2 works well; lower values bias towards longer segments\n",
    "max_length = 20\n",
    "overall_max_length = 30\n",
    "minimum_value = 0.7\n",
    "\n",
    "# subtract constant threshold value from chunk relevance values\n",
    "relevance_values = [v - irrelevant_chunk_penalty for v in chunk_values] \n",
    "\n",
    "# run the optimization\n",
    "best_segments, scores = get_best_segments(relevance_values, max_length, overall_max_length, minimum_value)\n",
    "\n",
    "# print results\n",
    "print (\"Best segment indices\")\n",
    "print (best_segments) # indices of the best segments, with the end index non-inclusive\n",
    "print ()\n",
    "print (\"Best segment scores\")\n",
    "print (scores)\n",
    "print ()"
   ]
  }
 ],
 "metadata": {
  "kernelspec": {
   "display_name": "rag",
   "language": "python",
   "name": "python3"
  },
  "language_info": {
   "codemirror_mode": {
    "name": "ipython",
    "version": 3
   },
   "file_extension": ".py",
   "mimetype": "text/x-python",
   "name": "python",
   "nbconvert_exporter": "python",
   "pygments_lexer": "ipython3",
   "version": "3.11.13"
  }
 },
 "nbformat": 4,
 "nbformat_minor": 5
}
